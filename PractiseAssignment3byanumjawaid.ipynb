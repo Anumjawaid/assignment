{
 "cells": [
  {
   "cell_type": "markdown",
   "metadata": {},
   "source": [
    "# Q1:"
   ]
  },
  {
   "cell_type": "markdown",
   "metadata": {},
   "source": [
    "Think of at least three kinds of your favorite pizza. Store these pizza names in a list, and then use a for loop to print the name of each pizza."
   ]
  },
  {
   "cell_type": "code",
   "execution_count": 1,
   "metadata": {},
   "outputs": [
    {
     "name": "stdout",
     "output_type": "stream",
     "text": [
      "fettucine\n",
      "jalepeno\n",
      "cream cheese\n"
     ]
    }
   ],
   "source": [
    "pizza=[\"fettucine\",\"jalepeno\",\"cream cheese\"]\n",
    "for i in pizza:\n",
    "    print(i)"
   ]
  },
  {
   "cell_type": "code",
   "execution_count": null,
   "metadata": {},
   "outputs": [],
   "source": []
  },
  {
   "cell_type": "code",
   "execution_count": null,
   "metadata": {},
   "outputs": [],
   "source": []
  },
  {
   "cell_type": "markdown",
   "metadata": {},
   "source": [
    "# Q2"
   ]
  },
  {
   "cell_type": "markdown",
   "metadata": {},
   "source": [
    "Start with your last question , Modify your for loop to print a sentence using the name of the pizza\n",
    "instead of printing just the name of the pizza. For each pizza you should\n",
    "have one line of output containing a simple statement like I like pepperoni\n",
    "pizza."
   ]
  },
  {
   "cell_type": "code",
   "execution_count": 5,
   "metadata": {},
   "outputs": [
    {
     "name": "stdout",
     "output_type": "stream",
     "text": [
      " i like fettucine pizza\n",
      " i like jalepeno pizza\n",
      " i like cream cheese pizza\n"
     ]
    }
   ],
   "source": [
    "pizza=[\"fettucine\",\"jalepeno\",\"cream cheese\"]\n",
    "for i in pizza:\n",
    "    print(f\" i like {i} pizza\")\n",
    "    \n",
    "    "
   ]
  },
  {
   "cell_type": "code",
   "execution_count": null,
   "metadata": {},
   "outputs": [],
   "source": []
  },
  {
   "cell_type": "code",
   "execution_count": null,
   "metadata": {},
   "outputs": [],
   "source": []
  },
  {
   "cell_type": "markdown",
   "metadata": {},
   "source": [
    "# Q3:"
   ]
  },
  {
   "cell_type": "markdown",
   "metadata": {},
   "source": [
    "Use a for loop to print the numbers from 1 to 20,\n",
    "inclusive."
   ]
  },
  {
   "cell_type": "code",
   "execution_count": 8,
   "metadata": {},
   "outputs": [
    {
     "name": "stdout",
     "output_type": "stream",
     "text": [
      "1\n",
      "2\n",
      "3\n",
      "4\n",
      "5\n",
      "6\n",
      "7\n",
      "8\n",
      "9\n",
      "10\n",
      "11\n",
      "12\n",
      "13\n",
      "14\n",
      "15\n",
      "16\n",
      "17\n",
      "18\n",
      "19\n",
      "20\n"
     ]
    }
   ],
   "source": [
    "for i in range(1,21):\n",
    "    print(i)\n"
   ]
  },
  {
   "cell_type": "code",
   "execution_count": null,
   "metadata": {},
   "outputs": [],
   "source": []
  },
  {
   "cell_type": "code",
   "execution_count": null,
   "metadata": {},
   "outputs": [],
   "source": []
  },
  {
   "cell_type": "markdown",
   "metadata": {},
   "source": [
    "# Q4:"
   ]
  },
  {
   "cell_type": "markdown",
   "metadata": {},
   "source": [
    "Use the third argument of the range() function to make a list\n",
    "of the odd numbers from 1 to 20. Use a for loop to print each number."
   ]
  },
  {
   "cell_type": "code",
   "execution_count": 9,
   "metadata": {},
   "outputs": [
    {
     "name": "stdout",
     "output_type": "stream",
     "text": [
      "1\n",
      "3\n",
      "5\n",
      "7\n",
      "9\n",
      "11\n",
      "13\n",
      "15\n",
      "17\n",
      "19\n"
     ]
    }
   ],
   "source": [
    "for i in range(1,21,2):\n",
    "    print(i)\n"
   ]
  },
  {
   "cell_type": "code",
   "execution_count": null,
   "metadata": {},
   "outputs": [],
   "source": []
  },
  {
   "cell_type": "code",
   "execution_count": null,
   "metadata": {},
   "outputs": [],
   "source": []
  },
  {
   "cell_type": "markdown",
   "metadata": {},
   "source": [
    "# Q5:"
   ]
  },
  {
   "cell_type": "markdown",
   "metadata": {},
   "source": [
    "Make a list of the multiples of 3 from 3 to 30. Use a for loop to\n",
    "print the numbers in your list."
   ]
  },
  {
   "cell_type": "code",
   "execution_count": 19,
   "metadata": {},
   "outputs": [
    {
     "name": "stdout",
     "output_type": "stream",
     "text": [
      "list of multiples of three\n"
     ]
    },
    {
     "data": {
      "text/plain": [
       "[3, 6, 9, 12, 15, 18, 21, 24, 27, 30]"
      ]
     },
     "execution_count": 19,
     "metadata": {},
     "output_type": "execute_result"
    }
   ],
   "source": [
    "list=[]\n",
    "for a in range(1,11):\n",
    "    a=a*3\n",
    "    list.append(a)\n",
    "print(\"list of multiples of three\")    \n",
    "list"
   ]
  },
  {
   "cell_type": "code",
   "execution_count": null,
   "metadata": {},
   "outputs": [],
   "source": []
  },
  {
   "cell_type": "code",
   "execution_count": null,
   "metadata": {},
   "outputs": [],
   "source": []
  },
  {
   "cell_type": "code",
   "execution_count": null,
   "metadata": {},
   "outputs": [],
   "source": []
  },
  {
   "cell_type": "markdown",
   "metadata": {},
   "source": [
    "# Q6:"
   ]
  },
  {
   "cell_type": "markdown",
   "metadata": {},
   "source": [
    "A number raised to the third power is called a cube. For example,\n",
    "the cube of 2 is written as 2**3 in Python. Make a list of the first 10 cubes (that\n",
    "is, the cube of each integer from 1 through 10), and use a for loop to print out\n",
    "the value of each cube"
   ]
  },
  {
   "cell_type": "code",
   "execution_count": 18,
   "metadata": {},
   "outputs": [
    {
     "name": "stdout",
     "output_type": "stream",
     "text": [
      "list of the first 10 cubes\n"
     ]
    },
    {
     "data": {
      "text/plain": [
       "[1, 8, 27, 64, 125, 216, 343, 512, 729, 1000]"
      ]
     },
     "execution_count": 18,
     "metadata": {},
     "output_type": "execute_result"
    }
   ],
   "source": [
    "list=[]\n",
    "for a in range(1,11):\n",
    "    a=a**3\n",
    "    list.append(a)\n",
    "print(\"list of the first 10 cubes\")    \n",
    "list    "
   ]
  },
  {
   "cell_type": "code",
   "execution_count": null,
   "metadata": {},
   "outputs": [],
   "source": []
  },
  {
   "cell_type": "code",
   "execution_count": null,
   "metadata": {},
   "outputs": [],
   "source": []
  },
  {
   "cell_type": "code",
   "execution_count": null,
   "metadata": {},
   "outputs": [],
   "source": []
  },
  {
   "cell_type": "markdown",
   "metadata": {},
   "source": [
    "# Q7:\n",
    "\n",
    "###### Make a python program that conatains your nine favourite dishes in a list called foods.\n",
    "\n",
    "###### Print the message, The first three items in the list are:. \n",
    "###### Then use a slice to print the first three items from that program’s list.\n",
    "\n",
    "###### Print the message, Three items from the middle of the list are:\n",
    "###### Use a slice to print three items from the middle of the list.\n",
    "\n",
    "###### Print the message, The last three items in the list are:\n",
    "###### Use a slice to print the last three items in the list."
   ]
  },
  {
   "cell_type": "code",
   "execution_count": 1,
   "metadata": {},
   "outputs": [
    {
     "name": "stdout",
     "output_type": "stream",
     "text": [
      "The first three items in the list are  ['biryani', 'pulao', 'fried rice']\n",
      "The middle three items in the list are  ['chowmien', 'alfredo', 'lasagne']\n",
      "The last three items in the list are  ['fire chicken', 'shashlik', 'handi']\n"
     ]
    }
   ],
   "source": [
    "food=[\"biryani\",\"pulao\",\"fried rice\",\"chowmien\",\"alfredo\",\"lasagne\",\"fire chicken\",\"shashlik\",\"handi\"]\n",
    "print(\"The first three items in the list are \",food[:3])\n",
    "print(\"The middle three items in the list are \",food[3:6])\n",
    "print(\"The last three items in the list are \",food[6:9])\n"
   ]
  },
  {
   "cell_type": "markdown",
   "metadata": {},
   "source": [
    "# Q8:"
   ]
  },
  {
   "cell_type": "markdown",
   "metadata": {},
   "source": [
    "### Start with your program from your last Question8.\n",
    "###### Make a copy of the list of foods, and call it friend_foods.\n",
    "###### Then, do the following:\n",
    "######    Add a new dish to the original list.\n",
    "######    Add a different dish to the list friend_foodss.\n",
    "######    Prove that you have two separate lists. \n",
    "###### Print the message, My favorite pizzas are: and then use a for loop to print the first list. \n",
    "###### Print the message,\n",
    "###### My friend’s favorite foods are:, and then use a for loop to print the second list.\n",
    "    \n",
    "##### NOTE: Make sure each new dish is stored in the appropriate list."
   ]
  },
  {
   "cell_type": "code",
   "execution_count": 42,
   "metadata": {},
   "outputs": [
    {
     "name": "stdout",
     "output_type": "stream",
     "text": [
      "my favourite foods are :\n",
      "biryani\n",
      "pulao\n",
      "fried rice\n",
      "chowmien\n",
      "alfredo\n",
      "lasagne\n",
      "fire chicken\n",
      "shashlik\n",
      "handi\n",
      "haleem\n",
      "***************\n",
      "my friend's favourite foods are :\n",
      "biryani\n",
      "pulao\n",
      "fried rice\n",
      "chowmien\n",
      "alfredo\n",
      "lasagne\n",
      "fire chicken\n",
      "shashlik\n",
      "handi\n",
      "deggi chicken\n"
     ]
    }
   ],
   "source": [
    "food=[\"biryani\",\"pulao\",\"fried rice\",\"chowmien\",\"alfredo\",\"lasagne\",\"fire chicken\",\"shashlik\",\"handi\"]\n",
    "frnd_foods=food.copy()\n",
    "frnd_foods\n",
    "food.append(\"haleem\")\n",
    "frnd_foods.append(\"deggi chicken\")\n",
    "print(\"my favourite foods are :\")\n",
    "for i in food:\n",
    "     print(i)\n",
    "print(\"***************\")        \n",
    "print(\"my friend's favourite foods are :\")\n",
    "for i in frnd_foods:\n",
    "     print(i)\n",
    "\n",
    "\n"
   ]
  },
  {
   "cell_type": "markdown",
   "metadata": {},
   "source": [
    "# Q9:"
   ]
  },
  {
   "cell_type": "markdown",
   "metadata": {},
   "source": [
    "Take a user input from console line.Store it in a variable called Alien_color.\n",
    "\n",
    "If the alien’s color is red, print a statement that the player just earned 5 points for shooting the alien.\n",
    "\n",
    "If the alien’s color isn’t green, print a statement that the player just earned 10 points.\n",
    "\n",
    "If the alien's color isn't red or green , print a statment :, Alien is no more....."
   ]
  },
  {
   "cell_type": "code",
   "execution_count": 44,
   "metadata": {},
   "outputs": [
    {
     "name": "stdout",
     "output_type": "stream",
     "text": [
      "Enter the color:red\n",
      "Player just earned five(5) points for shotting the alien\n"
     ]
    }
   ],
   "source": [
    "alien_color=input(\"Enter the color:\")\n",
    "if(alien_color==\"red\"):\n",
    "    print(\"Player just earned five(5) points for shotting the alien\")\n",
    "elif(alien_color==\"green\"):\n",
    "    print(\"Player just earned ten(10) points for shotting the alien\")\n",
    "else:\n",
    "    print(\"Alien is no more.........\")\n",
    "    "
   ]
  },
  {
   "cell_type": "markdown",
   "metadata": {},
   "source": [
    "# Q10:"
   ]
  },
  {
   "cell_type": "markdown",
   "metadata": {},
   "source": [
    "Write an if-elif-else chain that determines a person’s\n",
    "stage of life. Set a value for the variable age, and then:\n",
    "    \n",
    "•\t If the person is less than 2 years old, print a message that the person is a baby.\n",
    "\n",
    "•\t If the person is at least 2 years old but less than 4, print a message that the person is a toddler.\n",
    "\n",
    "•\t If the person is at least 4 years old but less than 13, print a message that the person is a kid.\n",
    "\n",
    "•\t If the person is at least 13 years old but less than 20, print a message that the person is a teenager.\n",
    "\n",
    "•\t If the person is at least 20 years old but less than 65, print a message that the person is an adult.\n",
    "\n",
    "•\t If the person is age 65 or older, print a message that the person is an elder."
   ]
  },
  {
   "cell_type": "code",
   "execution_count": 48,
   "metadata": {},
   "outputs": [
    {
     "name": "stdout",
     "output_type": "stream",
     "text": [
      "enter age:45\n",
      "Person is an adult\n"
     ]
    }
   ],
   "source": [
    "vary_age=int(input(\"enter age:\"))\n",
    "if(vary_age<2):\n",
    "    print(\"person is a baby\")\n",
    "elif((vary_age==2) or (vary_age<4)):\n",
    "    print(\"Person is a toddler\")\n",
    "elif((vary_age==4) or (vary_age<13)):\n",
    "    print(\"person is a kid\")\n",
    "elif((vary_age==13) or (vary_age<20)):\n",
    "    print(\"person is a teenager\")\n",
    "elif((vary_age==20) or (vary_age<65)):\n",
    "    print(\"Person is an adult\")\n",
    "elif(vary_age>=65):\n",
    "    print(\"person is an elder\")"
   ]
  },
  {
   "cell_type": "markdown",
   "metadata": {},
   "source": [
    "# Q11:"
   ]
  },
  {
   "cell_type": "markdown",
   "metadata": {},
   "source": [
    "Do the following to create a program that simulates how websites ensure that everyone has a unique username.\n",
    "\n",
    "•\t Make a list of five or more usernames called current_users.\n",
    "\n",
    "•\t Make another list of five usernames called new_users. \n",
    "Make sure one or two of the new usernames are also in the current_users list.\n",
    "\n",
    "•\t Loop through the new_users list to see if each new username has already been used. \n",
    "If it has, print a message that the person will need to enter a new username. \n",
    "If a username has not been used, print a message saying that the username is available.\n",
    "\n",
    "•\t Make sure your comparison is case insensitive. If 'John' has been used, 'JOHN' should not be accepted."
   ]
  },
  {
   "cell_type": "code",
   "execution_count": 41,
   "metadata": {},
   "outputs": [
    {
     "name": "stdout",
     "output_type": "stream",
     "text": [
      "GAMMA needs to enter new username\n",
      "fructose username is available\n",
      "sucrose username is available\n",
      "ROW needs to enter new username\n"
     ]
    }
   ],
   "source": [
    "cu_user=[\"alpha\",\"beta\",\"gamma\",\"sigma\",\"row\"]\n",
    "ne_user=[\"GAMMA\",\"fructose\",\"sucrose\",\"ROW\"]\n",
    "\n",
    "for a in ne_user:\n",
    "    b=a.lower() or a.upper()\n",
    "    if b in cu_user:\n",
    "        \n",
    "        print(a,\"needs to enter new username\")\n",
    "    else:\n",
    "        print(a,\"username is available\")\n",
    "\n",
    "    "
   ]
  },
  {
   "cell_type": "markdown",
   "metadata": {},
   "source": [
    "# Q12:"
   ]
  },
  {
   "cell_type": "markdown",
   "metadata": {},
   "source": [
    "Use a dictionary to store information about a person you know.\n",
    "Store their first name, last name, age, and the city in which they live. \n",
    "You should have keys such as first_name, last_name, age, and city. \n",
    "Print each piece of information stored in your dictionary"
   ]
  },
  {
   "cell_type": "code",
   "execution_count": 67,
   "metadata": {},
   "outputs": [
    {
     "name": "stdout",
     "output_type": "stream",
     "text": [
      "first name ==> sadaf\n",
      "last name ==> zehra\n",
      "age ==> 20\n",
      "city ==> karachi\n"
     ]
    }
   ],
   "source": [
    "people={\"f_name\":\"sadaf\",\"l_name\":\"zehra\",\"age\":20,\"city\":\"karachi\"}\n",
    "print(\"first name ==>\",people[\"f_name\"])\n",
    "print(\"last name ==>\",people[\"l_name\"])\n",
    "print(\"age ==>\",people[\"age\"])\n",
    "print(\"city ==>\",people[\"city\"])"
   ]
  },
  {
   "cell_type": "markdown",
   "metadata": {},
   "source": [
    "# Q13:"
   ]
  },
  {
   "cell_type": "markdown",
   "metadata": {},
   "source": [
    "Starts with your last question 12 , loop through the dictionary’s keys and values.\n",
    "When you’re sure that your loop works, add five more Python terms to your\n",
    "dictionary . When you run your program again, these new words and meanings\n",
    "should automatically be included in the output."
   ]
  },
  {
   "cell_type": "code",
   "execution_count": 33,
   "metadata": {},
   "outputs": [
    {
     "name": "stdout",
     "output_type": "stream",
     "text": [
      "{'f_name': 'sadaf', 'l_name': 'zehra', 'age': 20, 'city': 'karachi', 'education': 'undergraduate', 'profession': 'teacher', 'hobbies': 'reading', 'skills': 'illustrator', 'experience in years': 2}\n"
     ]
    }
   ],
   "source": [
    "people={\"f_name\":\"sadaf\",\"l_name\":\"zehra\",\"age\":20,\"city\":\"karachi\"}\n",
    "people[\"education\"]=\"undergraduate\"\n",
    "people[\"profession\"]=\"teacher\"\n",
    "people[\"hobbies\"]=\"reading\"\n",
    "people[\"skills\"]=\"illustrator\"\n",
    "people[\"experience in years\"]=2\n",
    "\n",
    "print(people)"
   ]
  },
  {
   "cell_type": "markdown",
   "metadata": {},
   "source": [
    "# Q14:"
   ]
  },
  {
   "cell_type": "markdown",
   "metadata": {},
   "source": [
    "Make a dictionary containing three major rivers and the country\n",
    "each river runs through. One key-value pair might be 'nile': 'egypt'.\n",
    "    \n",
    "    \n",
    "•\t Use a loop to print a sentence about each river, such as The Nile runs\n",
    "through Egypt.\n",
    "\n",
    "NOTE: use upper case through keys and values."
   ]
  },
  {
   "cell_type": "code",
   "execution_count": 27,
   "metadata": {},
   "outputs": [
    {
     "name": "stdout",
     "output_type": "stream",
     "text": [
      " River NILE flows through EGYPT.\n",
      " River AMAZON flows through BRAZIL.\n",
      " River BENGAL flows through GANGES.\n"
     ]
    }
   ],
   "source": [
    "river={'egypt':'nile','brazil':'Amazon','ganges':'bengal'}\n",
    "for a in river:\n",
    "    \n",
    "    \n",
    "    print(f\" River {river[a].upper()} flows through {a.upper()}.\")\n",
    "\n"
   ]
  },
  {
   "cell_type": "markdown",
   "metadata": {},
   "source": [
    "# Q15:"
   ]
  },
  {
   "cell_type": "markdown",
   "metadata": {},
   "source": [
    "Make several dictionaries, where the name of each dictionary is the\n",
    "name of a pet. In each dictionary, include the kind of animal and the owner’s\n",
    "name. Store these dictionaries in a list called pets. Next, loop through your list\n",
    "and as you do print everything you know about each pet."
   ]
  },
  {
   "cell_type": "code",
   "execution_count": 43,
   "metadata": {},
   "outputs": [
    {
     "name": "stdout",
     "output_type": "stream",
     "text": [
      "{'name': 'cat', 'owner': 'rehman', 'kind': 'mammal'}\n",
      "{'name': 'dog', 'owner': 'mushtaq', 'kind': 'mammal'}\n",
      "{'name': 'tiger', 'owner': 'qalam', 'kind': 'herbivourus'}\n"
     ]
    }
   ],
   "source": [
    "cat={\"name\":\"cat\",\"owner\":\"rehman\",\"kind\":\"mammal\"}\n",
    "dog={\"name\":\"dog\",\"owner\":\"mushtaq\",\"kind\":\"mammal\"}\n",
    "tiger={\"name\":\"tiger\",\"owner\":\"qalam\",\"kind\":\"herbivourus\"}\n",
    "pet=[cat,dog,tiger]\n",
    "for i in pet:\n",
    "    print(i)\n",
    "    "
   ]
  },
  {
   "cell_type": "code",
   "execution_count": null,
   "metadata": {},
   "outputs": [],
   "source": []
  }
 ],
 "metadata": {
  "kernelspec": {
   "display_name": "Python 3",
   "language": "python",
   "name": "python3"
  },
  "language_info": {
   "codemirror_mode": {
    "name": "ipython",
    "version": 3
   },
   "file_extension": ".py",
   "mimetype": "text/x-python",
   "name": "python",
   "nbconvert_exporter": "python",
   "pygments_lexer": "ipython3",
   "version": "3.6.5"
  }
 },
 "nbformat": 4,
 "nbformat_minor": 2
}
